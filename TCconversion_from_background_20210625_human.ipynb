{
 "cells": [
  {
   "cell_type": "markdown",
   "metadata": {},
   "source": [
    "## Subcellular Timelapse seq: TC conversion rate estimation\n",
    "Author: Robert Ietswaart  \n",
    "Date: 20210625  \n",
    "License: BSD2.  \n",
    "Load modules j3dl and activate virtual environment using j4RNAdecay on O2.  \n",
    "Python v3.7.4, pytorch v1.4 \n",
    "\n",
    "source: `TCconversion_from_background_20210506.ipynb`  \n",
    "For Brendan's project: estimate with binomial mixture model the TC conversion rates from the full no4sU and treated sample distributions of human (K562) experiments `T` and `U` for all available fractions."
   ]
  },
  {
   "cell_type": "code",
   "execution_count": 1,
   "metadata": {},
   "outputs": [],
   "source": [
    "import os\n",
    "import pandas as pd\n",
    "import numpy as np\n",
    "import math\n",
    "import copy\n",
    "import matplotlib.pyplot as plt\n",
    "plt.rcParams['pdf.fonttype'] = 42\n",
    "plt.rcParams['ps.fonttype'] = 42\n",
    "import seaborn as sns\n",
    "from scipy.optimize import least_squares\n",
    "from lmfit import minimize, Parameters\n",
    "import new_total_ratio as ntr\n",
    "import fit"
   ]
  },
  {
   "cell_type": "code",
   "execution_count": 44,
   "metadata": {},
   "outputs": [],
   "source": [
    "path = os.path.join('/n', 'groups', 'churchman', 'bms36', \n",
    "                    'TimeLapse_for_Robert', 'binom_method', 'human')\n",
    "outpath = os.path.join('/n','groups','churchman','ri23','bseq','GS20210625_human')\n",
    "reps = ['T','U']\n",
    "background_id = {r: '1' for r in reps}\n",
    "time_id = [str(i) for i in range(1,6)]\n",
    "fracs = ['chr','nuc', 'cyto', 'tot', 'poly']\n",
    "time_mins = [0, 15, 30, 60, 120]\n",
    "time_measured = pd.Series(time_mins[1:])\n",
    "\n",
    "\n",
    "analysis_type = 'bottom500genes_turnover'\n",
    "#'bottom500genes_turnover'\n",
    "#'top1000genes_turnover'\n",
    "\n",
    "RAW = dict()\n",
    "A = dict()\n",
    "for r in reps:\n",
    "    for fr in fracs:\n",
    "        for t in time_id:\n",
    "            filename = r + t + '-' + fr + '_'+analysis_type+'_TcountANDTCconv.txt'\n",
    "                \n",
    "            if os.path.exists(os.path.join(path, filename)):\n",
    "                RAW[r+fr+t]= pd.read_csv(os.path.join(path, filename), sep='\\t', index_col=0)\n",
    "\n",
    "                #creating A[n,k] matrix: insert zeros where RAW has not missing lines/columns\n",
    "                N = RAW[r+fr+t].index[-1] + 1\n",
    "                K = int(RAW[r+fr+t].columns[-1]) + 1\n",
    "                A[r+fr+t] = np.zeros((N,K))\n",
    "                for n in RAW[r+fr+t].index:\n",
    "                    for k in RAW[r+fr+t].columns:\n",
    "                        A[r+fr+t][n, int(k)] = RAW[r+fr+t][k][n]"
   ]
  },
  {
   "cell_type": "markdown",
   "metadata": {},
   "source": [
    "### Fit background error rates"
   ]
  },
  {
   "cell_type": "code",
   "execution_count": 1,
   "metadata": {},
   "outputs": [],
   "source": [
    "out = dict()\n",
    "for r in reps:\n",
    "    for fr in fracs:\n",
    "        if r+fr+background_id[r] in A.keys():\n",
    "            #Fit 1 error rates background\n",
    "            params1 = Parameters()\n",
    "            params1.add('Error_1', value=0.0001, min=0, max=1)\n",
    "            out[r+fr+'err1'] = minimize(fit.calc_res_matrix, params1, method='leastsquare',\n",
    "                                     args=(ntr.one_error_background, A[r+fr+background_id[r]], None))\n",
    "\n",
    "            #Fit 2 error rates background\n",
    "            params2 = Parameters()\n",
    "            params2.add('Error_1', value=0.0001, min=0, max=1)\n",
    "            params2.add('Error_2', value=0.00001, min=0, max=1)\n",
    "            params2.add('frac_err', value=0.5, min=0, max=1)\n",
    "            out[r+fr+'err2'] = minimize(fit.calc_res_matrix, params2, method='leastsquare',\n",
    "                                        args=(ntr.two_error_background, A[r+fr+background_id[r]], None))\n",
    "\n",
    "            #Confirm with AIC that 2 error model better explains the data\n",
    "            prob1, prob2 = fit.calc_aic(out[r+fr+'err1'].ndata,\n",
    "                                        out[r+fr+'err1'].chisqr,\n",
    "                                        out[r+fr+'err2'].chisqr,\n",
    "                                        out[r+fr+'err1'].nvarys,\n",
    "                                        out[r+fr+'err2'].nvarys)\n",
    "            print(r, fr, 'probability that model1 is favored', prob1)\n",
    "            print(r, fr, 'probability that model2 is favored', prob2)"
   ]
  },
  {
   "cell_type": "markdown",
   "metadata": {},
   "source": [
    "### Fit pc the TC conversion rate on treated samples"
   ]
  },
  {
   "cell_type": "code",
   "execution_count": 2,
   "metadata": {
    "scrolled": true
   },
   "outputs": [],
   "source": [
    "TC_INITS = [0.001,0.01]\n",
    "FRAC_INITS = [0.05, 0.5]\n",
    "\n",
    "paramsTC = Parameters()\n",
    "for r in reps:\n",
    "    for fr in fracs:\n",
    "        print(r,fr)\n",
    "        for t in time_id:\n",
    "            print(t)\n",
    "            if (not (t == background_id[r])) and (r+fr+t in A.keys()): \n",
    "                    chi2 = -1\n",
    "                    for tc_init in TC_INITS:\n",
    "                        for frac_init in FRAC_INITS:\n",
    "                            paramsTC.add('TC', value=tc_init, min=0, max=1)\n",
    "                            paramsTC.add('frac', value=frac_init, min=0, max=1)\n",
    "                            out_temp = minimize(fit.calc_res_matrix, paramsTC, #method='leastsq',\n",
    "                                        args=(ntr.TC_rate_from_background, A[r+fr+t], out[r+fr+'err2'].params))\n",
    "                            if (chi2 < 0) or (chi2 > out_temp.chisqr):\n",
    "                                out[r+fr+t] = out_temp\n",
    "                                chi2 = out_temp.chisqr"
   ]
  },
  {
   "cell_type": "markdown",
   "metadata": {},
   "source": [
    "# Write the predicted rates to file"
   ]
  },
  {
   "cell_type": "code",
   "execution_count": 3,
   "metadata": {
    "scrolled": true
   },
   "outputs": [],
   "source": [
    "for r in reps:\n",
    "    for fr in fracs:\n",
    "        if r+fr+background_id[r] in A.keys():\n",
    "            output = pd.DataFrame()\n",
    "            output['time'] = time_measured\n",
    "            output_params = ['TC', 'frac']\n",
    "            for para in output_params:\n",
    "                output[para] = [out[r+fr+t].params[para].value for t in time_id[1:]]\n",
    "                output[para+'_stderr'] = [out[r+fr+t].params[para].stderr for t in time_id[1:]]\n",
    "            filename = r+'-'+fr+'_'+analysis_type+'_BMmodel_TC_rate_predictions' \n",
    "            output.to_csv(os.path.join(outpath, filename + '.tsv'), sep='\\t', index=False)\n",
    "            #also write full output: for completeness\n",
    "            with open(os.path.join(outpath, filename + '_full.json'), 'w') as outfile:\n",
    "                out[r+fr+t].params.dump(outfile)\n",
    "            print(r, fr, '\\n', output.head())\n",
    "            \n",
    "            output = pd.DataFrame()\n",
    "            output['time'] = [0]\n",
    "            output_params = ['Error_1', 'Error_2', 'frac_err']\n",
    "            for para in output_params:\n",
    "                output[para] = [out[r+fr+'err2'].params[para].value]\n",
    "                output[para+'_stderr'] = [out[r+fr+'err2'].params[para].stderr]\n",
    "            filename = r+'-'+fr+'_'+analysis_type+'_BMmodel_background_rate_predictions'\n",
    "            output.to_csv(os.path.join(outpath, filename + '.tsv'), sep='\\t', index=False)\n",
    "            #also write full output: for completeness\n",
    "            with open(os.path.join(outpath, filename + '_full.json'), 'w') as outfile:\n",
    "                out[r+fr+'err2'].params.dump(outfile)\n",
    "            print('\\n', output.head(), '\\n')\n",
    "            \n",
    "        else: \n",
    "            print('no need to export rates for', r, fr,' since no input files')"
   ]
  }
 ],
 "metadata": {
  "kernelspec": {
   "display_name": "Python 3",
   "language": "python",
   "name": "python3"
  },
  "language_info": {
   "codemirror_mode": {
    "name": "ipython",
    "version": 3
   },
   "file_extension": ".py",
   "mimetype": "text/x-python",
   "name": "python",
   "nbconvert_exporter": "python",
   "pygments_lexer": "ipython3",
   "version": "3.7.4"
  }
 },
 "nbformat": 4,
 "nbformat_minor": 2
}

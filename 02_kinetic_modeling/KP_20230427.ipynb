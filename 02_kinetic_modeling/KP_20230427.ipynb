{
 "cells": [
  {
   "cell_type": "markdown",
   "metadata": {},
   "source": [
    "## Production rate analysis of PUNDs\n",
    "Author: Robert Ietswaart  \n",
    "Date: 20230427  \n",
    "License: BSD2.  \n",
    "Load modules j3dl and activate virtual environment using j4RNAdecay on O2.  \n",
    "Python v3.7.4\n",
    "\n",
    "Source: `KP_20220713.ipynb`  \n",
    "For RNA flow project. "
   ]
  },
  {
   "cell_type": "code",
   "execution_count": 1,
   "metadata": {},
   "outputs": [],
   "source": [
    "import os\n",
    "import re\n",
    "import copy\n",
    "import numpy as np\n",
    "import pandas as pd\n",
    "pd.set_option(\"display.max_columns\", None)\n",
    "pd.set_option(\"display.max_rows\", None)\n",
    "import logging\n",
    "import argparse\n",
    "import matplotlib.pyplot as plt\n",
    "plt.rcParams['pdf.fonttype'] = 42\n",
    "plt.rcParams['ps.fonttype'] = 42\n",
    "import seaborn as sns\n",
    "\n",
    "\n",
    "# from __init__ import __version__\n",
    "from __init__ import default_logger_format, default_date_format"
   ]
  },
  {
   "cell_type": "code",
   "execution_count": 2,
   "metadata": {},
   "outputs": [],
   "source": [
    "# def main():\n",
    "np.random.seed(12345)\n",
    "\n",
    "parser = argparse.ArgumentParser(\n",
    "    description='Estimating the fraction of transcripts that get nuclear degraded, ' \n",
    "                'through production rate estimates kp.')\n",
    "\n",
    "args = parser.parse_args(\"\")#EDIT: added \"\" as argument to run in ipynb instead of .py script"
   ]
  },
  {
   "cell_type": "code",
   "execution_count": 7,
   "metadata": {
    "scrolled": true
   },
   "outputs": [],
   "source": [
    "path = os.path.join('/n','groups','churchman','ri23','bseq','KP20230427')\n",
    "\n",
    "# Add a logger specific to the project and processing stage\n",
    "logger = logging.getLogger('KP')\n",
    "log_file = os.path.join(path,'LogErr', 'KP_20230427.log')\n",
    "formatter = logging.Formatter(default_logger_format,\n",
    "                              datefmt=default_date_format)\n",
    "log_handler = logging.FileHandler(log_file)\n",
    "log_handler.setFormatter(formatter)\n",
    "logger.addHandler(log_handler)\n",
    "\n",
    "organisms = ['m','h']\n",
    "org_map = {'m': 'mouse', 'h': 'human'}\n",
    "org_red_reps = {'m': ['G_R','H_S'], 'h': ['T', 'U']}\n",
    "reps = ['G','H','R','S','T','U']\n",
    "red_r = {'G': 'G_R', 'H': 'H_S', 'R': 'G_R', 'S': 'H_S', 'T': 'T', 'U': 'U'}\n",
    "fracs = ['chr', 'nuc', 'cyto', 'poly', 'tot']\n",
    "k_bound_lo = 1e-4 #unit: min^-1: 1 per 7 days\n",
    "k_bound_hi = 1e4 #unit: min^-1: 1 per 6 ms\n",
    "\n",
    "RATE_TYPE = ['half_life_','k_']\n",
    "\n",
    "rt = RATE_TYPE[1] #ML model dependent variable: rates\n",
    "\n",
    "Timescales = ['chr',\n",
    "              'chr_release',\n",
    "              'nucdeg',\n",
    "              'nucexp',\n",
    "              'nuc',\n",
    "              'cyto',\n",
    "              'poly_entry',\n",
    "              'whole_cell']\n",
    "Timescales = [rt + ts for ts in Timescales]\n",
    "TC_TYPES = ['top1000','bottom500']#BM model turnover method to estimate TC\n",
    "OUT_TYPES = ['.Mean', '.MAP', '.0.975.quantile', '.0.025.quantile']\n",
    "\n",
    "\n",
    "kp_compartment = 'chromatin' #'wc' #\n",
    "kp_ot = '_Mean' #'_MAP' #\n",
    "\n",
    "B = dict()          #Bayes fits file\n",
    "K = dict()          #Bayes Factor\n",
    "P = dict()\n",
    "GS = dict()         #GRAND-SLAM\n",
    "\n",
    "for o in organisms:  \n",
    "    GS[o] = dict()   \n",
    "    if o == 'm':\n",
    "        path_gs = os.path.join('/n','groups','churchman','ri23','bseq','GS20210506')  \n",
    "    elif o == 'h':\n",
    "        path_gs = os.path.join('/n','groups','churchman','ri23','bseq','GS20210713_human')\n",
    "    path_b = os.path.join('/n','groups','churchman','ri23','bseq','Bayes20230128')\n",
    "    filename_b = 'Bayes_Rates_20230128_'+ org_map[o] + '.tsv'\n",
    "    path_k = os.path.join('/n','groups','churchman','ri23','bseq','BayesFactor20221206')\n",
    "    filename_k = 'Bayes_factor_20230317_' + org_map[o] + '_final.tsv'\n",
    "\n",
    "    B[o] = pd.read_csv(os.path.join(path_b, filename_b), sep='\\t')\n",
    "    K[o] = pd.read_csv(os.path.join(path_k, filename_k), sep='\\t')\n",
    "    \n",
    "    for r in reps:\n",
    "        for fr in fracs:\n",
    "            for tc in TC_TYPES:\n",
    "                filename_gs = r + '_' + fr + '_noMT_' + tc + '.csv'\n",
    "                if os.path.exists(os.path.join(path_gs, filename_gs)):\n",
    "                    GS[o][red_r[r]+fr+tc]= pd.read_csv(os.path.join(path_gs, filename_gs) ,index_col=0)\n",
    "\n",
    "    for i, rr in enumerate(org_red_reps[o]):\n",
    "        p_path = os.path.join('/n','groups','churchman','ri23','bseq','KP20220713')        \n",
    "        if o == 'm':\n",
    "            filename = kp_compartment+'_kp_rep'+str(i+1)+'_'+org_map[o]+kp_ot+'.txt'  \n",
    "        elif o == 'h':\n",
    "            filename = kp_compartment+'_kp_rep'+str(i+1)+kp_ot+'.txt' \n",
    "        P[rr] = pd.read_csv(os.path.join(p_path, filename), sep='\\t')\n",
    "        mapper = {'kp':rr+'.kp', 'type':rr+'.type'}\n",
    "        P[rr].rename(mapper=mapper, axis=1, inplace=True)"
   ]
  },
  {
   "cell_type": "markdown",
   "metadata": {},
   "source": [
    "### Preprocess rates: dependent variables in model\n",
    "- preprocess nucexp: nucexp_from_chr or nucexp_from_nucdeg depending on nucdeg no or yes \n",
    "- clip to domain bounds"
   ]
  },
  {
   "cell_type": "code",
   "execution_count": 8,
   "metadata": {},
   "outputs": [
    {
     "name": "stderr",
     "output_type": "stream",
     "text": [
      "INFO: [2023-04-27 07:35:05] KP - mouse all genes: 17584\n",
      "INFO: [2023-04-27 07:35:05] KP - human all genes: 18154\n"
     ]
    }
   ],
   "source": [
    "T_bf = 100\n",
    "\n",
    "C = copy.deepcopy(B)\n",
    "for o in organisms:\n",
    "    C[o] = C[o].merge(K[o], on='Gene', how='outer', suffixes=('', '_bf'))\n",
    "    \n",
    "    for rr in org_red_reps[o]:\n",
    "        C[o] = C[o].merge(P[rr], on='Gene', how='outer', suffixes=('', '_'+rr))\n",
    "\n",
    "    if o == 'h' and kp_ot == '_Mean' and kp_compartment == 'chromatin':\n",
    "        C[o] = C[o][~C[o]['Symbol'].isin({'TMPO'})]#artefactually fast rate for Mean rep2; seems only outlier \n",
    "        \n",
    "    logger.info('%s all genes: %d' % (org_map[o], len(C[o])))\n",
    "\n",
    "    for ts in Timescales:\n",
    "        for ot in OUT_TYPES:\n",
    "            for rr in org_red_reps[o]:\n",
    "                if ts == rt + 'chr_release':\n",
    "                    C[o][rr+'.'+ts+ot] = copy.deepcopy(C[o][rr+'.'+ts+'_from_nucdeg'+ot].where(\n",
    "                        C[o]['PUND'], C[o][rr+'.'+rt+'chr'+ot]))\n",
    "                if ts == rt + 'nucdeg':#only for nucdeg genes according to Bayes Factor\n",
    "                    C[o][rr+'.'+ts+ot].where(C[o]['PUND'], (24*60), inplace=True)\n",
    "                if ts == rt + 'nucexp':\n",
    "                    C[o][rr+'.'+ts+ot] = copy.deepcopy(C[o][rr+'.'+ts+'_from_nucdeg'+ot].where(\n",
    "                        C[o]['PUND'], C[o][rr+'.'+ts+'_from_nucres'+ot]))\n",
    "\n",
    "                ###Clip range of values beyond realistic timescale values: 0.1min and 24h \n",
    "                if rr+'.'+ts+ot in C[o].keys():\n",
    "                    C[o][rr+'.'+ts+ot].where(C[o][rr+'.'+ts+ot] > 1e-1, 1e-1, inplace=True) \n",
    "                    C[o][rr+'.'+ts+ot].where(C[o][rr+'.'+ts+ot] < (24*60), (24*60), inplace=True) \n"
   ]
  },
  {
   "cell_type": "markdown",
   "metadata": {},
   "source": [
    "### Calculate fraction of degraded transcripts"
   ]
  },
  {
   "cell_type": "code",
   "execution_count": 14,
   "metadata": {},
   "outputs": [],
   "source": [
    "ot = kp_ot.replace('_','.') \n",
    "    \n",
    "for o in organisms:\n",
    "    for rr in org_red_reps[o]:      \n",
    "        C[o][rr+'.frac_ND'] = C[o][rr+'.k_nucdeg'+ot] / (C[o][rr+'.k_nucdeg'+ot]+C[o][rr+'.k_chr_release'+ot])\\\n",
    "            * (C[o][rr+'.k_chr_release'+ot] + C[o][rr+'.k_nucdeg'+ot] + C[o][rr+'.k_nucexp'+ot]) \\\n",
    "            / (C[o][rr+'.k_nucdeg'+ot] + C[o][rr+'.k_nucexp'+ot])\n",
    "        C[o][rr+'.kp_ND'] = C[o][rr+'.frac_ND'] * C[o][rr+'.kp']"
   ]
  },
  {
   "cell_type": "markdown",
   "metadata": {},
   "source": [
    "## Standard PUNDs criteria"
   ]
  },
  {
   "cell_type": "code",
   "execution_count": 19,
   "metadata": {
    "scrolled": true
   },
   "outputs": [
    {
     "name": "stderr",
     "output_type": "stream",
     "text": [
      "INFO: [2023-04-27 08:42:06] KP - kp derived from compartment: chromatin with .Mean\n",
      "INFO: [2023-04-27 08:42:06] KP - m fraction of transcripts nucdegraded over all produced protein-coding transcripts: 0.30925441893285815\n",
      "INFO: [2023-04-27 08:42:06] KP - m fraction of transcripts nucdegraded over all produced PUND transcripts: 0.7438919273573544\n",
      "INFO: [2023-04-27 08:42:06] KP - h fraction of transcripts nucdegraded over all produced protein-coding transcripts: 0.2312543731105066\n",
      "INFO: [2023-04-27 08:42:06] KP - h fraction of transcripts nucdegraded over all produced PUND transcripts: 0.6846793665475807\n"
     ]
    }
   ],
   "source": [
    "logger.info('kp derived from compartment: %s with %s' % (kp_compartment, ot))\n",
    "\n",
    "\n",
    "for o in organisms:\n",
    "    C[o] = C[o][~C[o]['PUND'].isna()]\n",
    "    global_kp_nd = C[o][C[o]['PUND']][[rr+'.kp_ND' for rr in org_red_reps[o]]].sum().sum()\n",
    "    frac_nd_of_all = global_kp_nd / C[o][[rr+'.kp' for rr in org_red_reps[o]]].sum().sum()\n",
    "    logger.info('%s fraction of transcripts nucdegraded over all produced protein-coding transcripts: %s' % (o,frac_nd_of_all))\n",
    "    frac_nd_of_PUNDs = global_kp_nd / C[o][C[o]['PUND']][[rr+'.kp' for rr in org_red_reps[o]]].sum().sum()\n",
    "    logger.info('%s fraction of transcripts nucdegraded over all produced PUND transcripts: %s' % (o,frac_nd_of_PUNDs))\n",
    " "
   ]
  },
  {
   "cell_type": "code",
   "execution_count": null,
   "metadata": {},
   "outputs": [],
   "source": []
  },
  {
   "cell_type": "code",
   "execution_count": null,
   "metadata": {},
   "outputs": [],
   "source": []
  }
 ],
 "metadata": {
  "kernelspec": {
   "display_name": "Python 3",
   "language": "python",
   "name": "python3"
  },
  "language_info": {
   "codemirror_mode": {
    "name": "ipython",
    "version": 3
   },
   "file_extension": ".py",
   "mimetype": "text/x-python",
   "name": "python",
   "nbconvert_exporter": "python",
   "pygments_lexer": "ipython3",
   "version": "3.7.4"
  }
 },
 "nbformat": 4,
 "nbformat_minor": 2
}

{
 "cells": [
  {
   "cell_type": "markdown",
   "metadata": {},
   "source": [
    "## Clustering and functional analysis on Bayesian timescales\n",
    "Author: Robert Ietswaart  \n",
    "Date: 20220713  \n",
    "License: BSD2.  \n",
    "Load modules j3dl and activate virtual environment using j4RNAdecay on O2.  \n",
    "Python v3.7.4\n",
    "\n",
    "Source: `Function_20220311.ipynb`  \n",
    "For RNA flow project. "
   ]
  },
  {
   "cell_type": "code",
   "execution_count": 1,
   "metadata": {},
   "outputs": [],
   "source": [
    "import os\n",
    "import re\n",
    "import copy\n",
    "import numpy as np\n",
    "import pandas as pd\n",
    "pd.set_option(\"display.max_columns\", None)\n",
    "pd.set_option(\"display.max_rows\", None)\n",
    "import logging\n",
    "import argparse\n",
    "import matplotlib.pyplot as plt\n",
    "plt.rcParams['pdf.fonttype'] = 42\n",
    "plt.rcParams['ps.fonttype'] = 42\n",
    "import seaborn as sns\n",
    "\n",
    "\n",
    "# from __init__ import __version__\n",
    "from __init__ import default_logger_format, default_date_format"
   ]
  },
  {
   "cell_type": "code",
   "execution_count": 2,
   "metadata": {},
   "outputs": [],
   "source": [
    "# def main():\n",
    "np.random.seed(12345)\n",
    "\n",
    "parser = argparse.ArgumentParser(\n",
    "    description='Estimating the fraction of transcripts that get nuclear degraded, ' \n",
    "                'through production rate estimates kp.')\n",
    "\n",
    "args = parser.parse_args(\"\")#EDIT: added \"\" as argument to run in ipynb instead of .py script"
   ]
  },
  {
   "cell_type": "code",
   "execution_count": 6,
   "metadata": {
    "scrolled": true
   },
   "outputs": [],
   "source": [
    "path = os.path.join('/n','groups','churchman','ri23','bseq','KP20220713')\n",
    "\n",
    "# Add a logger specific to the project and processing stage\n",
    "logger = logging.getLogger('KP')\n",
    "log_file = os.path.join(path,'LogErr', 'KP_20220713.log')\n",
    "formatter = logging.Formatter(default_logger_format,\n",
    "                              datefmt=default_date_format)\n",
    "log_handler = logging.FileHandler(log_file)\n",
    "log_handler.setFormatter(formatter)\n",
    "logger.addHandler(log_handler)\n",
    "\n",
    "organisms = ['m','h']\n",
    "org_map = {'m': 'mouse', 'h': 'human'}\n",
    "org_red_reps = {'m': ['G_R','H_S'], 'h': ['T', 'U']}\n",
    "reps = ['G','H','R','S','T','U']\n",
    "red_r = {'G': 'G_R', 'H': 'H_S', 'R': 'G_R', 'S': 'H_S', 'T': 'T', 'U': 'U'}\n",
    "fracs = ['chr', 'nuc', 'cyto', 'poly', 'tot']\n",
    "k_bound_lo = 1e-4 #unit: min^-1: 1 per 7 days\n",
    "k_bound_hi = 1e4 #unit: min^-1: 1 per 6 ms\n",
    "\n",
    "RATE_TYPE = ['half_life_','k_','T_']\n",
    "\n",
    "rt = RATE_TYPE[1] #ML model dependent variable: rates\n",
    "\n",
    "Timescales = ['chr',\n",
    "              'nuc',\n",
    "              'nucexp_from_chr',\n",
    "              'nucdeg',\n",
    "              'cyto',\n",
    "              'poly_entry',\n",
    "              'whole_cell',\n",
    "              'nucexp_from_nucdeg']\n",
    "Timescales = [rt + ts for ts in Timescales]\n",
    "TC_TYPES = ['top1000','bottom500']#BM model turnover method to estimate TC\n",
    "OUT_TYPES = ['.Mean', '.MAP', '.0.975.quantile', '.0.025.quantile']\n",
    "\n",
    "\n",
    "kp_compartment = 'chromatin' #'wc' #\n",
    "kp_ot = '_Mean' #'_MAP' #\n",
    "\n",
    "B = dict()          #Bayes fits file\n",
    "K = dict()          #Bayes Factor\n",
    "P = dict()\n",
    "GS = dict()         #GRAND-SLAM\n",
    "\n",
    "for o in organisms:  \n",
    "    GS[o] = dict()   \n",
    "    if o == 'm':\n",
    "        path_gs = os.path.join('/n','groups','churchman','ri23','bseq','GS20210506')\n",
    "        path_b = os.path.join('/n','groups','churchman','ri23','bseq','Bayes20220222')\n",
    "        filename_b = 'Bayes20220228.tsv'   \n",
    "    elif o == 'h':\n",
    "        path_gs = os.path.join('/n','groups','churchman','ri23','bseq','GS20210713_human')\n",
    "        path_b = os.path.join('/n','groups','churchman','ri23','bseq','Bayes20220228_human')\n",
    "        filename_b = 'Bayes20220228_human.tsv'\n",
    "    path_k = os.path.join('/n','groups','churchman','ri23','bseq','BayesFactor20220307')\n",
    "    filename_k = 'Bayes_factor_20220315_' + org_map[o] + '.tsv'\n",
    "\n",
    "    B[o] = pd.read_csv(os.path.join(path_b, filename_b), sep='\\t')\n",
    "    K[o] = pd.read_csv(os.path.join(path_k, filename_k), sep='\\t')\n",
    "    \n",
    "    for r in reps:\n",
    "        for fr in fracs:\n",
    "            for tc in TC_TYPES:\n",
    "                filename_gs = r + '_' + fr + '_noMT_' + tc + '.csv'\n",
    "                if os.path.exists(os.path.join(path_gs, filename_gs)):\n",
    "                    GS[o][red_r[r]+fr+tc]= pd.read_csv(os.path.join(path_gs, filename_gs) ,index_col=0)\n",
    "\n",
    "    for i, rr in enumerate(org_red_reps[o]):\n",
    "        if o == 'm':\n",
    "            filename = kp_compartment+'_kp_rep'+str(i+1)+'_'+org_map[o]+kp_ot+'.txt'  \n",
    "        elif o == 'h':\n",
    "            filename = kp_compartment+'_kp_rep'+str(i+1)+kp_ot+'.txt' \n",
    "        P[rr] = pd.read_csv(os.path.join(path, filename), sep='\\t')\n",
    "        mapper = {'kp':rr+'.kp', 'type':rr+'.type'}\n",
    "        P[rr].rename(mapper=mapper, axis=1, inplace=True)"
   ]
  },
  {
   "cell_type": "markdown",
   "metadata": {},
   "source": [
    "### Preprocess rates: dependent variables in model\n",
    "- preprocess nucexp: nucexp_from_chr or nucexp_from_nucdeg depending on nucdeg no or yes \n",
    "- clip to domain bounds"
   ]
  },
  {
   "cell_type": "code",
   "execution_count": 6,
   "metadata": {},
   "outputs": [
    {
     "name": "stderr",
     "output_type": "stream",
     "text": [
      "INFO: [2022-07-19 16:21:16] KP - mouse all genes: 17584\n",
      "INFO: [2022-07-19 16:21:16] KP - human all genes: 18154\n"
     ]
    }
   ],
   "source": [
    "T_bf = 100\n",
    "\n",
    "C = copy.deepcopy(B)\n",
    "for o in organisms:\n",
    "    C[o] = C[o].merge(K[o], on='Gene', how='outer', suffixes=('', '_bf'))\n",
    "    \n",
    "    for rr in org_red_reps[o]:\n",
    "        C[o] = C[o].merge(P[rr], on='Gene', how='outer', suffixes=('', '_'+rr))\n",
    "\n",
    "    if o == 'h' and kp_ot == '_Mean' and kp_compartment == 'chromatin':\n",
    "        C[o] = C[o][~C[o]['Symbol'].isin({'TMPO'})]#artefactually fast rate for Mean rep2; seems only outlier \n",
    "        \n",
    "    logger.info('%s all genes: %d' % (org_map[o], len(C[o])))\n",
    "\n",
    "    \n",
    "    for ot in OUT_TYPES:\n",
    "        for rr in org_red_reps[o]:\n",
    "            ts = rt+'nucexp_from_chr'\n",
    "            C[o][rr+'.'+ts+ot].where(((C[o][rr+'.bayes_factor'] <= T_bf) | (C[o][rr+'.bayes_factor'].isna())), \n",
    "                                     C[o][rr+'.'+rt+'nucexp_from_nucdeg'+ot], inplace=True)                        \n",
    "            ts = rt+'nucdeg'\n",
    "            C[o][rr+'.'+ts+ot].where(C[o][rr+'.bayes_factor'] > T_bf, np.nan, inplace=True)\n",
    "\n",
    "\n",
    "            for ts in Timescales:\n",
    "\n",
    "                ###Clip range of values beyond numerical integration domain bounds                  \n",
    "                C[o][rr+'.'+ts+ot].where(((C[o][rr+'.'+ts+ot] > k_bound_lo) | (C[o][rr+'.'+ts+ot].isna())), \n",
    "                                         k_bound_lo, inplace=True) \n",
    "                C[o][rr+'.'+ts+ot].where(((C[o][rr+'.'+ts+ot] < k_bound_hi) | (C[o][rr+'.'+ts+ot].isna())), \n",
    "                                         k_bound_hi, inplace=True)  \n"
   ]
  },
  {
   "cell_type": "markdown",
   "metadata": {},
   "source": [
    "### Calculate fraction of degraded transcripts"
   ]
  },
  {
   "cell_type": "code",
   "execution_count": 7,
   "metadata": {},
   "outputs": [],
   "source": [
    "ot = kp_ot.replace('_','.') \n",
    "    \n",
    "for o in organisms:\n",
    "    for rr in org_red_reps[o]:\n",
    "        C[o][rr+'.kp_ND'] = C[o][rr+'.kp'] * C[o][rr+'.k_nucdeg'+ot] / \\\n",
    "                            (C[o][rr+'.k_nucdeg'+ot] + C[o][rr+'.k_nucexp_from_chr'+ot])\n",
    "        \n",
    "        C[o][rr+'.frac_ND'] = C[o][rr+'.kp_ND'] / C[o][rr+'.kp']"
   ]
  },
  {
   "cell_type": "markdown",
   "metadata": {},
   "source": [
    "## Standard PUNDs criteria"
   ]
  },
  {
   "cell_type": "code",
   "execution_count": 8,
   "metadata": {
    "scrolled": true
   },
   "outputs": [
    {
     "name": "stderr",
     "output_type": "stream",
     "text": [
      "INFO: [2022-07-19 16:21:26] KP - kp derived from compartment: chromatin with .Mean\n",
      "INFO: [2022-07-19 16:21:26] KP - m fraction of transcripts nucdegraded over all produced protein-coding transcripts: 0.3485254631051543\n",
      "INFO: [2022-07-19 16:21:26] KP - m fraction of transcripts nucdegraded over all produced PUND transcripts: 0.9710930253351452\n",
      "INFO: [2022-07-19 16:21:26] KP - h fraction of transcripts nucdegraded over all produced protein-coding transcripts: 0.19988820137287683\n",
      "INFO: [2022-07-19 16:21:26] KP - h fraction of transcripts nucdegraded over all produced PUND transcripts: 0.9540442505577207\n",
      "INFO: [2022-07-19 16:21:26] KP - m G_R median (over gene distribution) of fraction of nucdegraded transcripts: 0.9790992583186715\n",
      "INFO: [2022-07-19 16:21:26] KP - m H_S median (over gene distribution) of fraction of nucdegraded transcripts: 0.9810668430334458\n",
      "INFO: [2022-07-19 16:21:26] KP - h T median (over gene distribution) of fraction of nucdegraded transcripts: 0.9784826130861547\n",
      "INFO: [2022-07-19 16:21:26] KP - h U median (over gene distribution) of fraction of nucdegraded transcripts: 0.9767220405232162\n"
     ]
    }
   ],
   "source": [
    "logger.info('kp derived from compartment: %s with %s' % (kp_compartment, ot))\n",
    "\n",
    "\n",
    "for o in organisms:\n",
    "    rr1 = org_red_reps[o][0]\n",
    "    \n",
    "    global_kp_nd = C[o][C[o][rr1+'.type']=='yes'][[rr+'.kp_ND' for rr in org_red_reps[o]]].sum().sum()\n",
    "    frac_nd_of_all = global_kp_nd / C[o][[rr+'.kp' for rr in org_red_reps[o]]].sum().sum()\n",
    "    logger.info('%s fraction of transcripts nucdegraded over all produced protein-coding transcripts: %s' % (o,frac_nd_of_all))\n",
    "    frac_nd_of_PUNDs = global_kp_nd / C[o][C[o][rr1+'.type']=='yes'][[rr+'.kp' for rr in org_red_reps[o]]].sum().sum()\n",
    "    logger.info('%s fraction of transcripts nucdegraded over all produced PUND transcripts: %s' % (o,frac_nd_of_PUNDs))\n",
    "\n",
    "for o in organisms:    \n",
    "    for rr in org_red_reps[o]:\n",
    "        median_frac_nd = C[o][C[o][rr+'.type']=='yes'][rr+'.frac_ND'].median()\n",
    "        logger.info('%s %s median (over gene distribution) of fraction of nucdegraded transcripts: %s' % \n",
    "                    (o,rr,median_frac_nd))    \n",
    "    "
   ]
  },
  {
   "cell_type": "code",
   "execution_count": null,
   "metadata": {},
   "outputs": [],
   "source": []
  },
  {
   "cell_type": "markdown",
   "metadata": {},
   "source": [
    "#### Distribution over PUND genes of fraction nuclear degraded RNA "
   ]
  },
  {
   "cell_type": "code",
   "execution_count": 6,
   "metadata": {},
   "outputs": [
    {
     "name": "stderr",
     "output_type": "stream",
     "text": [
      "INFO: [2022-07-15 10:37:54] KP - kp derived from compartment: chromatin with .Mean\n",
      "INFO: [2022-07-15 10:37:54] KP - m G_R fraction of transcripts nucdegraded over all produced protein-coding transcripts: 0.42\n",
      "INFO: [2022-07-15 10:37:54] KP - m G_R fraction of transcripts nucdegraded over all produced PUND transcripts: 0.97\n",
      "INFO: [2022-07-15 10:37:54] KP - m H_S fraction of transcripts nucdegraded over all produced protein-coding transcripts: 0.42\n",
      "INFO: [2022-07-15 10:37:54] KP - m H_S fraction of transcripts nucdegraded over all produced PUND transcripts: 0.91\n",
      "INFO: [2022-07-15 10:37:54] KP - h T fraction of transcripts nucdegraded over all produced protein-coding transcripts: 0.27\n",
      "INFO: [2022-07-15 10:37:54] KP - h T fraction of transcripts nucdegraded over all produced PUND transcripts: 0.96\n",
      "INFO: [2022-07-15 10:37:54] KP - h U fraction of transcripts nucdegraded over all produced protein-coding transcripts: 0.26\n",
      "INFO: [2022-07-15 10:37:54] KP - h U fraction of transcripts nucdegraded over all produced PUND transcripts: 0.92\n",
      "INFO: [2022-07-15 10:37:55] KP - m G_R median (over gene distribution) of fraction of nucdegraded transcripts: 0.97\n",
      "INFO: [2022-07-15 10:37:55] KP - m H_S median (over gene distribution) of fraction of nucdegraded transcripts: 0.97\n",
      "INFO: [2022-07-15 10:37:55] KP - h T median (over gene distribution) of fraction of nucdegraded transcripts: 0.97\n",
      "INFO: [2022-07-15 10:37:55] KP - h U median (over gene distribution) of fraction of nucdegraded transcripts: 0.97\n"
     ]
    }
   ],
   "source": [
    "logger.info('kp derived from compartment: %s with %s' % (kp_compartment, ot))\n",
    "\n",
    "for o in organisms:\n",
    "    for rr in org_red_reps[o]: \n",
    "        df = C[o][~C[o][rr+'.k_nucdeg'+ot].isna()]\n",
    "        global_kp_nd = df[rr+'.kp_ND'].sum()\n",
    "        frac_nd_of_all = global_kp_nd / C[o][rr+'.kp'].sum()\n",
    "        logger.info('%s %s fraction of transcripts nucdegraded over all '\n",
    "                    'produced protein-coding transcripts: %s' % (o,rr,frac_nd_of_all.round(2)))\n",
    "        frac_nd_of_PUNDs = global_kp_nd / df[rr+'.kp'].sum()\n",
    "        logger.info('%s %s fraction of transcripts nucdegraded over all '\n",
    "                    'produced PUND transcripts: %s' % (o,rr,frac_nd_of_PUNDs.round(2)))\n",
    "\n",
    "\n",
    "for o in organisms:\n",
    "    for rr in org_red_reps[o]:   \n",
    "        df = C[o][~C[o][rr+'.k_nucdeg'+ot].isna()]\n",
    "        median_frac_nd = df[rr+'.frac_ND'].median().round(2)\n",
    "        logger.info('%s %s median (over gene distribution) of fraction of nucdegraded transcripts: %s' % \n",
    "                    (o,rr,median_frac_nd))    \n",
    "    "
   ]
  },
  {
   "cell_type": "code",
   "execution_count": 12,
   "metadata": {},
   "outputs": [
    {
     "name": "stderr",
     "output_type": "stream",
     "text": [
      "INFO: [2022-07-15 10:43:40] KP - Bayes Factor 100\n"
     ]
    },
    {
     "data": {
      "image/png": "[encoded data removed]",
      "text/plain": [
       "<Figure size 288x288 with 1 Axes>"
      ]
     },
     "metadata": {},
     "output_type": "display_data"
    },
    {
     "data": {
      "image/png": "[encoded data removed]",
      "text/plain": [
       "<Figure size 288x288 with 1 Axes>"
      ]
     },
     "metadata": {},
     "output_type": "display_data"
    },
    {
     "data": {
      "image/png": "[encoded data removed]",
      "text/plain": [
       "<Figure size 288x288 with 1 Axes>"
      ]
     },
     "metadata": {},
     "output_type": "display_data"
    },
    {
     "data": {
      "image/png": "[encoded data removed]",
      "text/plain": [
       "<Figure size 288x288 with 1 Axes>"
      ]
     },
     "metadata": {},
     "output_type": "display_data"
    }
   ],
   "source": [
    "logger.info('Bayes Factor %d' % T_bf)\n",
    "for o in organisms:\n",
    "    for rr in org_red_reps[o]:  \n",
    "        df = C[o][~C[o][rr+'.k_nucdeg'+ot].isna()]\n",
    "        sns.set(style=\"whitegrid\", color_codes=True,font_scale=1)\n",
    "        f, ax = plt.subplots(figsize=(4, 4)) \n",
    "        df[rr+'.frac_ND'].hist(bins=20)\n",
    "        plt.title(o+' '+rr+' BF>'+str(T_bf)+': #PUNDs='+str(len(df)))\n",
    "        "
   ]
  },
  {
   "cell_type": "code",
   "execution_count": null,
   "metadata": {},
   "outputs": [],
   "source": []
  }
 ],
 "metadata": {
  "kernelspec": {
   "display_name": "Python 3",
   "language": "python",
   "name": "python3"
  },
  "language_info": {
   "codemirror_mode": {
    "name": "ipython",
    "version": 3
   },
   "file_extension": ".py",
   "mimetype": "text/x-python",
   "name": "python",
   "nbconvert_exporter": "python",
   "pygments_lexer": "ipython3",
   "version": "3.7.4"
  }
 },
 "nbformat": 4,
 "nbformat_minor": 2
}

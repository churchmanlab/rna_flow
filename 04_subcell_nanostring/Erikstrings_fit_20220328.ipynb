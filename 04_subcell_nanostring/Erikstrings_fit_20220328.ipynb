{
 "cells": [
  {
   "cell_type": "markdown",
   "metadata": {},
   "source": [
    "## Erikstrings MLE fitting of nuclear residence model using \n",
    "Author: Robert Ietswaart  \n",
    "Date: 20220328  \n",
    "License: BSD2.  \n",
    "Load modules j3dl and activate virtual environment using j4RNAdecay on O2.  \n",
    "Python v3.7.4, pytorch v1.4  \n",
    "\n",
    "For RNA flow project: perform timescale fitting based on Erikstrings fraction of new RNA = 1 - frac old RNA,\n",
    "with frac old RNA the proportion of flow through after 4sU treatment, thus isolating the fraction unlabeled (pre-existing) transcripts divided by the total RNA levels. The read out is Nanostrings, a gene-specific absolute RNA quantification method.\n",
    "\n",
    "MLE (least squares) fitting of nuclear residence model since all genes are well explained by that model.\n",
    "\n",
    "Source: `Timescale_fit_20210712_human.ipynb` and `Timescale_Bayes_20220222.ipynb`  "
   ]
  },
  {
   "cell_type": "code",
   "execution_count": 23,
   "metadata": {},
   "outputs": [],
   "source": [
    "import os\n",
    "import copy\n",
    "import numpy as np\n",
    "import pandas as pd\n",
    "pd.set_option(\"display.max_columns\", None)\n",
    "pd.set_option(\"display.max_rows\", None)\n",
    "import logging\n",
    "import argparse\n",
    "import matplotlib.pyplot as plt\n",
    "plt.rcParams['pdf.fonttype'] = 42\n",
    "plt.rcParams['ps.fonttype'] = 42\n",
    "import seaborn as sns\n",
    "from scipy.optimize import least_squares\n",
    "from scipy.stats import beta, pearsonr\n",
    "\n",
    "# from __init__ import __version__\n",
    "from __init__ import default_logger_format, default_date_format\n",
    "\n",
    "import new_total_ratio as ntr\n",
    "import fit"
   ]
  },
  {
   "cell_type": "code",
   "execution_count": 24,
   "metadata": {},
   "outputs": [],
   "source": [
    "# def main():\n",
    "np.random.seed(12345)\n",
    "\n",
    "\n",
    "parser = argparse.ArgumentParser(\n",
    "    description='Least squares (MLE) rate fitting of nuclear residence model on Erikstrings data')\n",
    "\n",
    "args = parser.parse_args(\"\")#EDIT: added \"\" as argument to run in ipynb instead of .py script"
   ]
  },
  {
   "cell_type": "code",
   "execution_count": 26,
   "metadata": {},
   "outputs": [],
   "source": [
    "path = os.path.join('/n','groups','churchman','ri23','bseq','ES20220328')\n",
    "\n",
    "# Add a logger specific to the project and processing stage\n",
    "logger = logging.getLogger('Erikstrings_MLE')\n",
    "log_file = os.path.join(path,'LogErr', 'Erikstrings_MLE_20220328.log')\n",
    "formatter = logging.Formatter(default_logger_format,\n",
    "                              datefmt=default_date_format)\n",
    "log_handler = logging.FileHandler(log_file)\n",
    "log_handler.setFormatter(formatter)\n",
    "logger.addHandler(log_handler)\n",
    "\n",
    "\n",
    "fracs = ['nuc','cyto','tot']\n",
    "fracs_fullname = {'nuc': 'nuclear', 'cyto': 'cytoplasm', 'tot': 'total'}\n",
    "# fracs_model = ['nuc','cyto','poly','tot_pred','tot_fit']\n",
    "# reps = ['G','H']\n",
    "time_id = [str(i) for i in range(1,6)]\n",
    "time_mins = [0,15,30,60,120]\n",
    "time_measured = pd.Series(time_mins[1:])\n",
    "T_max = time_mins[-1]+30 #only used for plotting continuous curves\n",
    "time_cont = pd.Series(range(0, T_max)) #only used for plotting continuous curves\n",
    "time_id2mins = dict()\n",
    "for tid in time_id:\n",
    "    time_id2mins[tid] = time_mins[int(tid)-1]\n",
    "RATE_TYPE = ['half_life_','k_','T_']\n",
    "\n",
    "Timescales = ['T_nuc',\n",
    "              'T_cyto',\n",
    "              'T_whole_cell']\n",
    "\n",
    "Timescales2fracs = {'T_nuc': ['nuc'],\n",
    "                    'T_cyto' : ['cyto'],\n",
    "                    'T_whole_cell' : ['tot']}\n",
    "    \n",
    "    \n",
    "ES = dict()\n",
    "for fr in fracs:\n",
    "    filename = 'Erikstrings_'+fracs_fullname[fr]+'_means.txt'\n",
    "    ES[fr]= pd.read_csv(os.path.join(path,filename), sep='\\t')\n",
    "    for assay_type in ['Erikstrings', 'TimeLapse']:\n",
    "        ES[fr][assay_type].where(ES[fr][assay_type] >= 0, 0, inplace = True)\n",
    "    \n",
    "##Genes analyzed with Nanostrings    \n",
    "Nano_h = ['FTSJ1',\n",
    "'RPS6KA3',\n",
    "'MYLK3',\n",
    "'MCM8',\n",
    "'UHMK1',\n",
    "'DDX50',\n",
    "'ABHD5',\n",
    "'ZSCAN22',\n",
    "'MYC',\n",
    "'RBM15',\n",
    "'FOXO3',\n",
    "'SOX5',\n",
    "'SHOX2',\n",
    "'UPF2',\n",
    "'BRCA2',\n",
    "'HP1BP3',\n",
    "'TOB1',\n",
    "'MED26',\n",
    "'JUN',\n",
    "'CHD8',\n",
    "'CDCA2']"
   ]
  },
  {
   "cell_type": "code",
   "execution_count": 27,
   "metadata": {},
   "outputs": [
    {
     "data": {
      "text/html": [
       "<div>\n",
       "<style scoped>\n",
       "    .dataframe tbody tr th:only-of-type {\n",
       "        vertical-align: middle;\n",
       "    }\n",
       "\n",
       "    .dataframe tbody tr th {\n",
       "        vertical-align: top;\n",
       "    }\n",
       "\n",
       "    .dataframe thead th {\n",
       "        text-align: right;\n",
       "    }\n",
       "</style>\n",
       "<table border=\"1\" class=\"dataframe\">\n",
       "  <thead>\n",
       "    <tr style=\"text-align: right;\">\n",
       "      <th></th>\n",
       "      <th>Symbol</th>\n",
       "      <th>Time</th>\n",
       "      <th>TimeLapse</th>\n",
       "      <th>Erikstrings</th>\n",
       "      <th>RNA</th>\n",
       "    </tr>\n",
       "  </thead>\n",
       "  <tbody>\n",
       "    <tr>\n",
       "      <th>0</th>\n",
       "      <td>FTSJ1</td>\n",
       "      <td>0</td>\n",
       "      <td>0.00000</td>\n",
       "      <td>0.0</td>\n",
       "      <td>Total</td>\n",
       "    </tr>\n",
       "    <tr>\n",
       "      <th>1</th>\n",
       "      <td>RPS6KA3</td>\n",
       "      <td>0</td>\n",
       "      <td>0.00825</td>\n",
       "      <td>0.0</td>\n",
       "      <td>Total</td>\n",
       "    </tr>\n",
       "    <tr>\n",
       "      <th>2</th>\n",
       "      <td>MYLK3</td>\n",
       "      <td>0</td>\n",
       "      <td>0.00000</td>\n",
       "      <td>0.0</td>\n",
       "      <td>Total</td>\n",
       "    </tr>\n",
       "    <tr>\n",
       "      <th>3</th>\n",
       "      <td>MCM8</td>\n",
       "      <td>0</td>\n",
       "      <td>0.00000</td>\n",
       "      <td>0.0</td>\n",
       "      <td>Total</td>\n",
       "    </tr>\n",
       "    <tr>\n",
       "      <th>4</th>\n",
       "      <td>UHMK1</td>\n",
       "      <td>0</td>\n",
       "      <td>0.00105</td>\n",
       "      <td>0.0</td>\n",
       "      <td>Total</td>\n",
       "    </tr>\n",
       "  </tbody>\n",
       "</table>\n",
       "</div>"
      ],
      "text/plain": [
       "    Symbol  Time  TimeLapse  Erikstrings    RNA\n",
       "0    FTSJ1     0    0.00000          0.0  Total\n",
       "1  RPS6KA3     0    0.00825          0.0  Total\n",
       "2    MYLK3     0    0.00000          0.0  Total\n",
       "3     MCM8     0    0.00000          0.0  Total\n",
       "4    UHMK1     0    0.00105          0.0  Total"
      ]
     },
     "execution_count": 27,
     "metadata": {},
     "output_type": "execute_result"
    }
   ],
   "source": [
    "ES[fr].head()"
   ]
  },
  {
   "cell_type": "markdown",
   "metadata": {},
   "source": [
    "### Least squares: initialize rate vector and functions\n",
    "\n",
    "references:  \n",
    "scipy.optimize.least_squares https://docs.scipy.org/doc/scipy/reference/generated/scipy.optimize.least_squares.html\n",
    "\n",
    "tutorial robust nonlinear regression:\n",
    "https://scipy-cookbook.readthedocs.io/items/robust_regression.html"
   ]
  },
  {
   "cell_type": "code",
   "execution_count": 28,
   "metadata": {},
   "outputs": [
    {
     "name": "stderr",
     "output_type": "stream",
     "text": [
      "INFO: [2022-03-30 23:24:24] Erikstrings_MLE - initial rate value k0 [0.9385877  1.143683   0.84416839]\n"
     ]
    }
   ],
   "source": [
    "N_para = 3 \n",
    "k_bound_lo = 1e-4 #1e-4 unit: min^-1: 1 per 7 days\n",
    "k_bound_hi = 1e4 #unit: min^-1: 1 per 6 ms, if too restrictive: increase to 1e6\n",
    "k_bounds = (np.zeros(N_para)+k_bound_lo,np.asarray([k_bound_hi for i in range(N_para)]))\n",
    "\n",
    "# #control: bounds do not matter, but use above to be consistent with Bayesian approach\n",
    "# eps = 1e-6\n",
    "# k_bounds = (np.zeros(N_para)+eps,np.asarray([np.inf for i in range(N_para)]))\n",
    "# #end control\n",
    "\n",
    "k0 = abs(np.random.normal(1, 0.3, N_para))\n",
    "logger.info('initial rate value k0 %s' % k0)"
   ]
  },
  {
   "cell_type": "code",
   "execution_count": 29,
   "metadata": {},
   "outputs": [],
   "source": [
    "def get_model_fit_parts(frm):\n",
    "    fit_idx = -1 \n",
    "    model = None\n",
    "    fixed_para = None\n",
    "    if frm == 'nuc':\n",
    "        fit_idx = 0\n",
    "        model = ntr.lam_nuc\n",
    "    elif frm == 'cyto':\n",
    "        fit_idx = 1\n",
    "        model = ntr.lam_cyto\n",
    "        fixed_para = k_fit[0]\n",
    "    elif frm == 'tot':\n",
    "        fit_idx = 2\n",
    "        model = ntr.lam_total_one_step\n",
    "\n",
    "    if fit_idx >= 0:\n",
    "        init_para = k0[fit_idx:(fit_idx+1)]\n",
    "        bounds_para = [k_bounds[0][fit_idx], k_bounds[1][fit_idx]]\n",
    "    else:\n",
    "        init_para = None\n",
    "        bounds_para = None\n",
    "\n",
    "    return model, init_para, bounds_para, fixed_para, fit_idx\n",
    "\n",
    "\n",
    "def get_model_pred_para(frm, k):\n",
    "    if frm == 'nuc':\n",
    "        model = ntr.lam_nuc\n",
    "        pred_para = k[:1]\n",
    "    elif frm == 'cyto':\n",
    "        model = ntr.lam_cyto\n",
    "        pred_para = k[:2]\n",
    "    elif frm == 'tot':\n",
    "        model = ntr.lam_total_one_step\n",
    "        pred_para = k[2:]\n",
    "    return model, pred_para\n",
    "\n",
    "\n",
    "def get_chi2(ntr_meas,ntr_model):\n",
    "    eps = 1e-16\n",
    "    chi2 = 0\n",
    "    for i in ntr_meas.index:\n",
    "        chi2 = chi2 + (ntr_model[i]-ntr_meas[i])**2/(ntr_model[i]+eps)\n",
    "    return chi2"
   ]
  },
  {
   "cell_type": "markdown",
   "metadata": {},
   "source": [
    "### Select gene"
   ]
  },
  {
   "cell_type": "code",
   "execution_count": 38,
   "metadata": {},
   "outputs": [],
   "source": [
    "gene = 'FTSJ1'#'MYC' #'JUN'#'FOXO3' #\n",
    "\n",
    "assay_type = 'Erikstrings' #'TimeLapse' #"
   ]
  },
  {
   "cell_type": "code",
   "execution_count": 31,
   "metadata": {},
   "outputs": [
    {
     "name": "stderr",
     "output_type": "stream",
     "text": [
      "INFO: [2022-03-30 23:24:28] Erikstrings_MLE - nuc NTR: [0.0049587  0.21421255 0.53983867 0.71158357]\n",
      "INFO: [2022-03-30 23:24:28] Erikstrings_MLE - cyto NTR: [0.07824664 0.         0.03056078 0.15024386]\n",
      "INFO: [2022-03-30 23:24:28] Erikstrings_MLE - tot NTR: [0.         0.         0.         0.02612702]\n"
     ]
    }
   ],
   "source": [
    "NTR = dict()\n",
    "\n",
    "for fr in fracs: \n",
    "    NTR[fr] = ES[fr][ES[fr]['Symbol']==gene]\n",
    "    NTR[fr] = NTR[fr][NTR[fr]['Time'].isin(time_measured)][assay_type].reset_index(drop=True)\n",
    "    logger.info('%s NTR: %s' % (fr,NTR[fr].values))"
   ]
  },
  {
   "cell_type": "markdown",
   "metadata": {},
   "source": [
    "### Fit: least squares of ODE model  timescales to GS data\n",
    "first try sequentially"
   ]
  },
  {
   "cell_type": "code",
   "execution_count": 32,
   "metadata": {
    "scrolled": false
   },
   "outputs": [
    {
     "name": "stderr",
     "output_type": "stream",
     "text": [
      "INFO: [2022-03-30 23:24:33] Erikstrings_MLE - FTSJ1\n",
      "INFO: [2022-03-30 23:24:33] Erikstrings_MLE - T_nuc 97.987737\n",
      "INFO: [2022-03-30 23:24:33] Erikstrings_MLE - T_cyto 303.871139\n",
      "INFO: [2022-03-30 23:24:33] Erikstrings_MLE - T_whole_cell 6065.304537\n"
     ]
    }
   ],
   "source": [
    "logger.info(gene)\n",
    "k_fit = np.asarray([np.nan for t in Timescales])\n",
    "for fr in fracs:\n",
    "    model, init_para, bounds_para, fixed_para, fit_idx = get_model_fit_parts(fr)\n",
    "\n",
    "    if model is not None:#if fit, not a prediction\n",
    "        fit_val = least_squares(fit.calc_res, \n",
    "                                init_para, \n",
    "                                args=(model, time_measured, NTR[fr], fixed_para),\n",
    "                                bounds=bounds_para,\n",
    "                                gtol=1e-14, ftol=1e-14,\n",
    "                                loss='linear')\n",
    "        k_fit[fit_idx] = fit_val.x[0]\n",
    "\n",
    "for i in range(min(len(k_fit), N_para)):\n",
    "    logger.info('%s %f' % (Timescales[i], 1/k_fit[i]))  "
   ]
  },
  {
   "cell_type": "markdown",
   "metadata": {},
   "source": [
    "### Visualization of fits\n",
    "units: minutes  "
   ]
  },
  {
   "cell_type": "code",
   "execution_count": 33,
   "metadata": {},
   "outputs": [],
   "source": [
    "NTR_pred_measured = dict()\n",
    "NTR_pred_cont = dict()\n",
    "\n",
    "for fr in fracs:\n",
    "    model, params = get_model_pred_para(fr, k_fit)\n",
    "    NTR_pred_measured[fr] = model(params, time_measured)\n",
    "    NTR_pred_cont[fr] = model(params, time_cont)"
   ]
  },
  {
   "cell_type": "code",
   "execution_count": 34,
   "metadata": {
    "scrolled": false
   },
   "outputs": [
    {
     "data": {
      "image/png": "[encoded data removed]",
      "text/plain": [
       "<Figure size 360x216 with 1 Axes>"
      ]
     },
     "metadata": {},
     "output_type": "display_data"
    },
    {
     "data": {
      "image/png": "[encoded data removed]",
      "text/plain": [
       "<Figure size 360x216 with 1 Axes>"
      ]
     },
     "metadata": {},
     "output_type": "display_data"
    },
    {
     "data": {
      "image/png": "[encoded data removed]",
      "text/plain": [
       "<Figure size 360x216 with 1 Axes>"
      ]
     },
     "metadata": {},
     "output_type": "display_data"
    }
   ],
   "source": [
    "cmap={'chr':'#1D5386', 'nuc':'#506C23', 'cyto':'#B80000', 'poly':'#9E2E93', 'tot':'#D66B1F'}\n",
    "  \n",
    "for fr in fracs:\n",
    "    sns.set(style=\"whitegrid\", color_codes=True,font_scale=1)\n",
    "    f, ax = plt.subplots(figsize=(5, 3))   \n",
    "    ax.errorbar(x=time_measured, y=NTR[fr],\n",
    "                fmt='o', ms=8,color='k') \n",
    "    ax.errorbar(x=time_measured, y=NTR_pred_measured[fr], \n",
    "                fmt='o', ms=8,color=cmap[fr],alpha=0.5)\n",
    "    ax.errorbar(x=time_cont, y=NTR_pred_cont[fr], color=cmap[fr],alpha=1)\n",
    "\n",
    "    plt.xticks(time_mins)\n",
    "    plt.yticks([i*0.1 for i in range(11)])\n",
    "    plt.xlim([-10,T_max])\n",
    "    plt.ylim([-0.5,1.1])\n",
    "    plt.xlabel('Time (mins)')\n",
    "    plt.ylabel('fraction of new RNA')\n",
    "    plt.title(assay_type + ', gene: '+gene+'  RNA species: '+fr)"
   ]
  },
  {
   "cell_type": "markdown",
   "metadata": {},
   "source": [
    "### Fit timescales for all genes \n",
    "run for both assay_type = 'Erikstrings' and 'TimeLapse' "
   ]
  },
  {
   "cell_type": "code",
   "execution_count": 39,
   "metadata": {},
   "outputs": [
    {
     "name": "stderr",
     "output_type": "stream",
     "text": [
      "INFO: [2022-03-30 23:28:42] Erikstrings_MLE - Run model parameter fitting for all Nanostrings genes\n",
      "INFO: [2022-03-30 23:28:42] Erikstrings_MLE - 0 FTSJ1\n",
      "INFO: [2022-03-30 23:28:42] Erikstrings_MLE - Write results to file ES_MLE_TimeLapse.tsv\n",
      "INFO: [2022-03-30 23:28:42] Erikstrings_MLE - nuc NTR: [0.06635  0.26645  0.555275 0.6756  ]\n",
      "INFO: [2022-03-30 23:28:43] Erikstrings_MLE - cyto NTR: [0.0007  0.0007  0.01155 0.08985]\n",
      "INFO: [2022-03-30 23:28:43] Erikstrings_MLE - tot NTR: [0.0266  0.06665 0.09775 0.1269 ]\n",
      "INFO: [2022-03-30 23:28:43] Erikstrings_MLE - 1 RPS6KA3\n",
      "INFO: [2022-03-30 23:28:43] Erikstrings_MLE - Write results to file ES_MLE_TimeLapse.tsv\n",
      "INFO: [2022-03-30 23:28:43] Erikstrings_MLE - nuc NTR: [0.224725 0.36525  0.53     0.526625]\n",
      "INFO: [2022-03-30 23:28:43] Erikstrings_MLE - cyto NTR: [0.00025 0.0085  0.0346  0.0663 ]\n",
      "INFO: [2022-03-30 23:28:43] Erikstrings_MLE - tot NTR: [0.02265 0.084   0.1189  0.1017 ]\n",
      "INFO: [2022-03-30 23:28:43] Erikstrings_MLE - 2 MYLK3\n",
      "INFO: [2022-03-30 23:28:43] Erikstrings_MLE - Write results to file ES_MLE_TimeLapse.tsv\n",
      "INFO: [2022-03-30 23:28:43] Erikstrings_MLE - nuc NTR: [0.139125 0.372425 0.56085  0.552175]\n",
      "INFO: [2022-03-30 23:28:43] Erikstrings_MLE - cyto NTR: [0.      0.0109  0.02445 0.09155]\n",
      "INFO: [2022-03-30 23:28:43] Erikstrings_MLE - tot NTR: [0.0451   0.0306   0.129925 0.1161  ]\n",
      "INFO: [2022-03-30 23:28:43] Erikstrings_MLE - 3 MCM8\n",
      "INFO: [2022-03-30 23:28:43] Erikstrings_MLE - Write results to file ES_MLE_TimeLapse.tsv\n",
      "INFO: [2022-03-30 23:28:43] Erikstrings_MLE - nuc NTR: [0.0616   0.1731   0.367425 0.692375]\n",
      "INFO: [2022-03-30 23:28:43] Erikstrings_MLE - cyto NTR: [0.0006  0.00235 0.04575 0.1007 ]\n",
      "INFO: [2022-03-30 23:28:43] Erikstrings_MLE - tot NTR: [0.04225 0.066   0.14315 0.2436 ]\n",
      "INFO: [2022-03-30 23:28:43] Erikstrings_MLE - 4 UHMK1\n",
      "INFO: [2022-03-30 23:28:43] Erikstrings_MLE - Write results to file ES_MLE_TimeLapse.tsv\n",
      "INFO: [2022-03-30 23:28:43] Erikstrings_MLE - nuc NTR: [0.37265  0.5689   0.743525 0.83295 ]\n",
      "INFO: [2022-03-30 23:28:43] Erikstrings_MLE - cyto NTR: [0.009675 0.05765  0.199375 0.4489  ]\n",
      "INFO: [2022-03-30 23:28:43] Erikstrings_MLE - tot NTR: [0.088225 0.134425 0.299    0.572625]\n",
      "INFO: [2022-03-30 23:28:43] Erikstrings_MLE - 5 DDX50\n",
      "INFO: [2022-03-30 23:28:43] Erikstrings_MLE - Write results to file ES_MLE_TimeLapse.tsv\n",
      "INFO: [2022-03-30 23:28:43] Erikstrings_MLE - nuc NTR: [0.2027   0.336125 0.470875 0.58325 ]\n",
      "INFO: [2022-03-30 23:28:43] Erikstrings_MLE - cyto NTR: [0.      0.0234  0.11835 0.1382 ]\n",
      "INFO: [2022-03-30 23:28:43] Erikstrings_MLE - tot NTR: [0.062625 0.1275   0.206375 0.27105 ]\n",
      "INFO: [2022-03-30 23:28:43] Erikstrings_MLE - 6 ABHD5\n",
      "INFO: [2022-03-30 23:28:43] Erikstrings_MLE - Write results to file ES_MLE_TimeLapse.tsv\n",
      "INFO: [2022-03-30 23:28:43] Erikstrings_MLE - nuc NTR: [0.423225 0.648975 0.858675 0.905025]\n",
      "INFO: [2022-03-30 23:28:43] Erikstrings_MLE - cyto NTR: [0.003025 0.121575 0.4751   0.6737  ]\n",
      "INFO: [2022-03-30 23:28:43] Erikstrings_MLE - tot NTR: [0.192   0.3275  0.62915 0.84605]\n",
      "INFO: [2022-03-30 23:28:43] Erikstrings_MLE - 7 ZSCAN22\n",
      "INFO: [2022-03-30 23:28:43] Erikstrings_MLE - Write results to file ES_MLE_TimeLapse.tsv\n",
      "INFO: [2022-03-30 23:28:43] Erikstrings_MLE - nuc NTR: [0.58265 0.677   0.8688  0.9858 ]\n",
      "INFO: [2022-03-30 23:28:43] Erikstrings_MLE - cyto NTR: [0.04715 0.1546  0.60995 0.8717 ]\n",
      "INFO: [2022-03-30 23:28:43] Erikstrings_MLE - tot NTR: [0.118225 0.27845  0.615125 0.9551  ]\n",
      "INFO: [2022-03-30 23:28:43] Erikstrings_MLE - 8 MYC\n",
      "INFO: [2022-03-30 23:28:43] Erikstrings_MLE - Write results to file ES_MLE_TimeLapse.tsv\n",
      "INFO: [2022-03-30 23:28:43] Erikstrings_MLE - nuc NTR: [0.88525 0.87005 0.95725 0.96035]\n",
      "INFO: [2022-03-30 23:28:43] Erikstrings_MLE - cyto NTR: [0.1759  0.3946  0.86745 0.98145]\n",
      "INFO: [2022-03-30 23:28:44] Erikstrings_MLE - tot NTR: [0.3306  0.48855 0.85515 0.98945]\n",
      "INFO: [2022-03-30 23:28:44] Erikstrings_MLE - 9 RBM15\n",
      "INFO: [2022-03-30 23:28:44] Erikstrings_MLE - Write results to file ES_MLE_TimeLapse.tsv\n",
      "INFO: [2022-03-30 23:28:44] Erikstrings_MLE - nuc NTR: [0.205625 0.338975 0.689975 0.88835 ]\n",
      "INFO: [2022-03-30 23:28:44] Erikstrings_MLE - cyto NTR: [0.00285  0.09335  0.314025 0.6767  ]\n",
      "INFO: [2022-03-30 23:28:44] Erikstrings_MLE - tot NTR: [0.1313   0.2173   0.459725 0.80705 ]\n",
      "INFO: [2022-03-30 23:28:44] Erikstrings_MLE - 10 FOXO3\n",
      "INFO: [2022-03-30 23:28:44] Erikstrings_MLE - Write results to file ES_MLE_TimeLapse.tsv\n",
      "INFO: [2022-03-30 23:28:44] Erikstrings_MLE - nuc NTR: [0.3749   0.5001   0.625825 0.757075]\n",
      "INFO: [2022-03-30 23:28:44] Erikstrings_MLE - cyto NTR: [0.01345  0.127275 0.279475 0.705825]\n",
      "INFO: [2022-03-30 23:28:44] Erikstrings_MLE - tot NTR: [0.13225  0.110725 0.30135  0.77715 ]\n",
      "INFO: [2022-03-30 23:28:44] Erikstrings_MLE - 11 SOX5\n",
      "INFO: [2022-03-30 23:28:44] Erikstrings_MLE - Write results to file ES_MLE_TimeLapse.tsv\n",
      "INFO: [2022-03-30 23:28:44] Erikstrings_MLE - nuc NTR: [0.297575 0.406225 0.48965  0.758875]\n",
      "INFO: [2022-03-30 23:28:44] Erikstrings_MLE - cyto NTR: [0.02435  0.066575 0.305475 0.4708  ]\n",
      "INFO: [2022-03-30 23:28:44] Erikstrings_MLE - tot NTR: [0.13655  0.071175 0.279    0.57565 ]\n",
      "INFO: [2022-03-30 23:28:44] Erikstrings_MLE - 12 SHOX2\n",
      "INFO: [2022-03-30 23:28:44] Erikstrings_MLE - Write results to file ES_MLE_TimeLapse.tsv\n",
      "INFO: [2022-03-30 23:28:44] Erikstrings_MLE - nuc NTR: [0.310375 0.348675 0.5557   0.78895 ]\n",
      "INFO: [2022-03-30 23:28:44] Erikstrings_MLE - cyto NTR: [0.0211   0.045625 0.255125 0.650525]\n",
      "INFO: [2022-03-30 23:28:44] Erikstrings_MLE - tot NTR: [0.138075 0.13125  0.324075 0.745975]\n",
      "INFO: [2022-03-30 23:28:44] Erikstrings_MLE - 13 UPF2\n",
      "INFO: [2022-03-30 23:28:44] Erikstrings_MLE - Write results to file ES_MLE_TimeLapse.tsv\n",
      "INFO: [2022-03-30 23:28:44] Erikstrings_MLE - nuc NTR: [0.11035  0.20995  0.365325 0.494325]\n",
      "INFO: [2022-03-30 23:28:44] Erikstrings_MLE - cyto NTR: [0.      0.04545 0.128   0.22735]\n",
      "INFO: [2022-03-30 23:28:44] Erikstrings_MLE - tot NTR: [0.0204  0.09535 0.174   0.27605]\n",
      "INFO: [2022-03-30 23:28:44] Erikstrings_MLE - 14 BRCA2\n",
      "INFO: [2022-03-30 23:28:44] Erikstrings_MLE - Write results to file ES_MLE_TimeLapse.tsv\n",
      "INFO: [2022-03-30 23:28:44] Erikstrings_MLE - nuc NTR: [0.085    0.188025 0.354125 0.471425]\n",
      "INFO: [2022-03-30 23:28:44] Erikstrings_MLE - cyto NTR: [0.00245  0.0126   0.13435  0.277075]\n",
      "INFO: [2022-03-30 23:28:44] Erikstrings_MLE - tot NTR: [0.024775 0.10585  0.20535  0.39465 ]\n",
      "INFO: [2022-03-30 23:28:44] Erikstrings_MLE - 15 HP1BP3\n",
      "INFO: [2022-03-30 23:28:44] Erikstrings_MLE - Write results to file ES_MLE_TimeLapse.tsv\n",
      "INFO: [2022-03-30 23:28:44] Erikstrings_MLE - nuc NTR: [0.0747   0.14405  0.261725 0.39995 ]\n",
      "INFO: [2022-03-30 23:28:44] Erikstrings_MLE - cyto NTR: [0.013475 0.028975 0.077475 0.1772  ]\n",
      "INFO: [2022-03-30 23:28:44] Erikstrings_MLE - tot NTR: [0.0893   0.12225  0.199025 0.3103  ]\n",
      "INFO: [2022-03-30 23:28:44] Erikstrings_MLE - 16 TOB1\n",
      "INFO: [2022-03-30 23:28:44] Erikstrings_MLE - Write results to file ES_MLE_TimeLapse.tsv\n",
      "INFO: [2022-03-30 23:28:44] Erikstrings_MLE - nuc NTR: [0.448775 0.477575 0.73105  0.924925]\n",
      "INFO: [2022-03-30 23:28:44] Erikstrings_MLE - cyto NTR: [0.0734  0.26725 0.70935 0.85355]\n",
      "INFO: [2022-03-30 23:28:44] Erikstrings_MLE - tot NTR: [0.1539   0.35835  0.599525 0.887   ]\n",
      "INFO: [2022-03-30 23:28:45] Erikstrings_MLE - 17 MED26\n",
      "INFO: [2022-03-30 23:28:45] Erikstrings_MLE - Write results to file ES_MLE_TimeLapse.tsv\n",
      "INFO: [2022-03-30 23:28:45] Erikstrings_MLE - nuc NTR: [0.438625 0.5219   0.858825 0.951375]\n",
      "INFO: [2022-03-30 23:28:45] Erikstrings_MLE - cyto NTR: [0.187225 0.42385  0.91445  0.9978  ]\n",
      "INFO: [2022-03-30 23:28:45] Erikstrings_MLE - tot NTR: [0.271325 0.3695   0.791675 0.952275]\n",
      "INFO: [2022-03-30 23:28:45] Erikstrings_MLE - 18 JUN\n",
      "INFO: [2022-03-30 23:28:45] Erikstrings_MLE - Write results to file ES_MLE_TimeLapse.tsv\n",
      "INFO: [2022-03-30 23:28:45] Erikstrings_MLE - nuc NTR: [0.47185  0.54775  0.7773   0.875175]\n",
      "INFO: [2022-03-30 23:28:45] Erikstrings_MLE - cyto NTR: [0.13685 0.36845 0.764   0.8777 ]\n",
      "INFO: [2022-03-30 23:28:45] Erikstrings_MLE - tot NTR: [0.275325 0.381925 0.76765  0.898225]\n",
      "INFO: [2022-03-30 23:28:45] Erikstrings_MLE - 19 CHD8\n",
      "INFO: [2022-03-30 23:28:45] Erikstrings_MLE - Write results to file ES_MLE_TimeLapse.tsv\n"
     ]
    },
    {
     "name": "stderr",
     "output_type": "stream",
     "text": [
      "INFO: [2022-03-30 23:28:45] Erikstrings_MLE - nuc NTR: [0.11445  0.1828   0.310875 0.4812  ]\n",
      "INFO: [2022-03-30 23:28:45] Erikstrings_MLE - cyto NTR: [0.016925 0.049875 0.181625 0.38195 ]\n",
      "INFO: [2022-03-30 23:28:45] Erikstrings_MLE - tot NTR: [0.09055  0.101975 0.230475 0.47535 ]\n",
      "INFO: [2022-03-30 23:28:45] Erikstrings_MLE - 20 CDCA2\n",
      "INFO: [2022-03-30 23:28:45] Erikstrings_MLE - Write results to file ES_MLE_TimeLapse.tsv\n",
      "INFO: [2022-03-30 23:28:45] Erikstrings_MLE - nuc NTR: [0.06145  0.155925 0.27115  0.48645 ]\n",
      "INFO: [2022-03-30 23:28:45] Erikstrings_MLE - cyto NTR: [0.00585  0.0337   0.175375 0.3682  ]\n",
      "INFO: [2022-03-30 23:28:45] Erikstrings_MLE - tot NTR: [0.0328   0.113975 0.2713   0.496   ]\n",
      "INFO: [2022-03-30 23:28:45] Erikstrings_MLE - Write results to file ES_MLE_TimeLapse.tsv\n",
      "INFO: [2022-03-30 23:28:45] Erikstrings_MLE - end\n"
     ]
    }
   ],
   "source": [
    "logger.info('Run model parameter fitting for all Nanostrings genes')\n",
    "\n",
    "filename = 'ES_MLE_'+assay_type+'.tsv'\n",
    "\n",
    "#initialize the fit dictionary with columns\n",
    "fits = dict()\n",
    "fits['Symbol'] = []\n",
    "for rt in RATE_TYPE:\n",
    "    for ts in Timescales:\n",
    "        fits[ts.replace('T_',rt)] = []         \n",
    "for fr in fracs:\n",
    "    fits[fr+'.chi2'] = []\n",
    "\n",
    "#Fit all genes\n",
    "count = 0\n",
    "for gene in Nano_h:\n",
    "    logger.info('%d %s' % (count, gene))\n",
    "    logger.info('Write results to file %s' % filename)\n",
    "    fits_df = pd.DataFrame(fits)\n",
    "    fits_df.to_csv(os.path.join(path, filename), sep='\\t',index=False)\n",
    "\n",
    "    #initialize k_fit per gene\n",
    "    k_fit = np.asarray([np.nan for t in Timescales])\n",
    "    \n",
    "    NTR = dict()\n",
    "    for fr in fracs:\n",
    "        #get NTR timeseries \n",
    "        NTR[fr] = ES[fr][ES[fr]['Symbol']==gene]\n",
    "        NTR[fr] = NTR[fr][NTR[fr]['Time'].isin(time_measured)][assay_type].reset_index(drop=True)\n",
    "        logger.info('%s NTR: %s' % (fr,NTR[fr].values))\n",
    "    \n",
    "\n",
    "        #get model fits\n",
    "        model, init_para, bounds_para, fixed_para, fit_idx = get_model_fit_parts(fr)\n",
    "        try:\n",
    "            fit_val = least_squares(fit.calc_res, \n",
    "                                    init_para, \n",
    "                                    args=(model, time_measured, NTR[fr], fixed_para),\n",
    "                                    bounds=bounds_para,\n",
    "                                    gtol=1e-14, ftol=1e-14,\n",
    "                                    loss='linear')\n",
    "            k_fit[fit_idx] = fit_val.x[0]    \n",
    "        except (IndexError, KeyError, ZeroDivisionError):\n",
    "            logger.warning('%s: fail, so nan rates' % (fr))\n",
    "                \n",
    "\n",
    "    #append rates in fits dictionary  \n",
    "    for rt in RATE_TYPE:\n",
    "        for i, ts in enumerate(Timescales):\n",
    "            if rt == 'half_life_':\n",
    "                fits[ts.replace('T_',rt)].append(np.log(2)*(k_fit[i])**(-1))\n",
    "            elif rt == 'k_':\n",
    "                fits[ts.replace('T_',rt)].append(k_fit[i])\n",
    "            elif rt == 'T_':\n",
    "                fits[ts].append((k_fit[i])**(-1))\n",
    "    \n",
    "    #Get predictions\n",
    "    NTR_model = dict()\n",
    "    for fr in fracs:\n",
    "        try:\n",
    "            model, params = get_model_pred_para(fr, k_fit)\n",
    "            NTR_model[fr] = model(params, time_measured)\n",
    "            chi2 = get_chi2(NTR[fr], NTR_model[fr])\n",
    "            fits[fr+'.chi2'].append(chi2)  \n",
    "        except (IndexError, KeyError):\n",
    "            fits[fr+'.chi2'].append(np.nan)\n",
    "    \n",
    "    fits['Symbol'].append(gene)\n",
    "         \n",
    "    count+=1\n",
    "\n",
    "    \n",
    "\n",
    "logger.info('Write results to file %s' % filename)\n",
    "fits_df = pd.DataFrame(fits)\n",
    "fits_df.to_csv(os.path.join(path, filename), sep='\\t',index=False)\n",
    "logger.info('end')\n",
    "\n",
    "# if __name__ == '__main__':\n",
    "#     main()"
   ]
  },
  {
   "cell_type": "code",
   "execution_count": null,
   "metadata": {},
   "outputs": [],
   "source": []
  },
  {
   "cell_type": "code",
   "execution_count": null,
   "metadata": {},
   "outputs": [],
   "source": []
  },
  {
   "cell_type": "code",
   "execution_count": null,
   "metadata": {},
   "outputs": [],
   "source": []
  }
 ],
 "metadata": {
  "kernelspec": {
   "display_name": "Python 3",
   "language": "python",
   "name": "python3"
  },
  "language_info": {
   "codemirror_mode": {
    "name": "ipython",
    "version": 3
   },
   "file_extension": ".py",
   "mimetype": "text/x-python",
   "name": "python",
   "nbconvert_exporter": "python",
   "pygments_lexer": "ipython3",
   "version": "3.7.4"
  }
 },
 "nbformat": 4,
 "nbformat_minor": 2
}
